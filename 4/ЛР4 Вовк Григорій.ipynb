{
 "cells": [
  {
   "cell_type": "code",
   "execution_count": null,
   "metadata": {
    "colab": {
     "base_uri": "https://localhost:8080/",
     "height": 35
    },
    "id": "iktULKjzMWE6",
    "outputId": "d71ecd2e-ff94-4d99-9dab-d0ae03e1320c"
   },
   "outputs": [],
   "source": [
    "%pip install numpy scipy"
   ]
  },
  {
   "cell_type": "markdown",
   "metadata": {
    "id": "bzgZsRa4rFAA"
   },
   "source": [
    "## 1. Створи матрицю 3*3, заповни її цілими випадковими числами від 1 до 5"
   ]
  },
  {
   "cell_type": "code",
   "execution_count": 2,
   "metadata": {
    "colab": {
     "base_uri": "https://localhost:8080/"
    },
    "id": "IuGME1hqq_H5",
    "outputId": "34bf166f-699b-41d0-94f9-2df157e24668"
   },
   "outputs": [
    {
     "data": {
      "text/plain": [
       "array([[2, 3, 3],\n",
       "       [1, 1, 4],\n",
       "       [5, 4, 5]])"
      ]
     },
     "execution_count": 2,
     "metadata": {},
     "output_type": "execute_result"
    }
   ],
   "source": [
    "import numpy as np\n",
    "matrix = np.random.randint(1, 6, size=(3, 3))\n",
    "matrix"
   ]
  },
  {
   "cell_type": "markdown",
   "metadata": {
    "id": "s-vUzUUMrQTy"
   },
   "source": [
    "## 2. Обчислити визначник матриці"
   ]
  },
  {
   "cell_type": "code",
   "execution_count": 3,
   "metadata": {
    "colab": {
     "base_uri": "https://localhost:8080/"
    },
    "id": "nUHBryA5rU61",
    "outputId": "e0c85cbd-1196-4789-dc83-067babc0aa2d"
   },
   "outputs": [
    {
     "data": {
      "text/plain": [
       "np.float64(19.999999999999996)"
      ]
     },
     "execution_count": 3,
     "metadata": {},
     "output_type": "execute_result"
    }
   ],
   "source": [
    "det = np.linalg.det(matrix)\n",
    "det"
   ]
  },
  {
   "cell_type": "markdown",
   "metadata": {
    "id": "nJlBtfW6lYKU"
   },
   "source": [
    "## 3. Знайти добуток всіх елементів матриці"
   ]
  },
  {
   "cell_type": "code",
   "execution_count": 4,
   "metadata": {
    "colab": {
     "base_uri": "https://localhost:8080/"
    },
    "id": "id6Bm07urcEw",
    "outputId": "5e032f9a-63a9-4d43-83d3-4b5e875c441c"
   },
   "outputs": [
    {
     "data": {
      "text/plain": [
       "np.int64(7200)"
      ]
     },
     "execution_count": 4,
     "metadata": {},
     "output_type": "execute_result"
    }
   ],
   "source": [
    "product = np.prod(matrix)\n",
    "product"
   ]
  },
  {
   "cell_type": "code",
   "execution_count": 5,
   "metadata": {
    "colab": {
     "base_uri": "https://localhost:8080/"
    },
    "id": "oz6DoMyc0myI",
    "outputId": "c578716f-6089-4390-d354-9777826c3ca5"
   },
   "outputs": [
    {
     "data": {
      "text/plain": [
       "np.int64(7200)"
      ]
     },
     "execution_count": 5,
     "metadata": {},
     "output_type": "execute_result"
    }
   ],
   "source": [
    "prod_1 = np.prod(matrix[0])\n",
    "prod_2 = np.prod(matrix[1])\n",
    "prod_3 = np.prod(matrix[2])\n",
    "prod_1*prod_2*prod_3"
   ]
  },
  {
   "cell_type": "markdown",
   "metadata": {
    "id": "gBRoRxSnrlws"
   },
   "source": [
    "## 4. Знайти суму всіх елементів матриці"
   ]
  },
  {
   "cell_type": "code",
   "execution_count": 6,
   "metadata": {
    "colab": {
     "base_uri": "https://localhost:8080/"
    },
    "id": "iQ6a47B4rsj9",
    "outputId": "d03c47bd-1511-44b1-8107-7871919bde38"
   },
   "outputs": [
    {
     "data": {
      "text/plain": [
       "np.int64(28)"
      ]
     },
     "execution_count": 6,
     "metadata": {},
     "output_type": "execute_result"
    }
   ],
   "source": [
    "sum = np.sum(matrix)\n",
    "sum"
   ]
  },
  {
   "cell_type": "markdown",
   "metadata": {
    "id": "YUOPusccr4CA"
   },
   "source": [
    "## 5. Обчислити найбільший, найменший елементи"
   ]
  },
  {
   "cell_type": "code",
   "execution_count": 7,
   "metadata": {
    "colab": {
     "base_uri": "https://localhost:8080/"
    },
    "id": "xy7eVPvMr-td",
    "outputId": "3191da13-626b-4c95-e5ea-054ccb14d669"
   },
   "outputs": [
    {
     "data": {
      "text/plain": [
       "np.int64(5)"
      ]
     },
     "execution_count": 7,
     "metadata": {},
     "output_type": "execute_result"
    }
   ],
   "source": [
    "max_element = np.max(matrix)\n",
    "max_element"
   ]
  },
  {
   "cell_type": "code",
   "execution_count": 8,
   "metadata": {},
   "outputs": [
    {
     "data": {
      "text/plain": [
       "np.int64(1)"
      ]
     },
     "execution_count": 8,
     "metadata": {},
     "output_type": "execute_result"
    }
   ],
   "source": [
    "min_element = np.min(matrix)\n",
    "min_element"
   ]
  },
  {
   "cell_type": "markdown",
   "metadata": {
    "id": "KdvHubDVljmd"
   },
   "source": [
    "## 6. Знайти середнє значення елементів матриці"
   ]
  },
  {
   "cell_type": "code",
   "execution_count": 9,
   "metadata": {
    "colab": {
     "base_uri": "https://localhost:8080/"
    },
    "id": "nsGFkAkqsH7X",
    "outputId": "7f1856a6-0f79-49b1-e873-42fe597bc3f7"
   },
   "outputs": [
    {
     "data": {
      "text/plain": [
       "np.float64(3.111111111111111)"
      ]
     },
     "execution_count": 9,
     "metadata": {},
     "output_type": "execute_result"
    }
   ],
   "source": [
    "mean = np.mean(matrix)\n",
    "mean"
   ]
  },
  {
   "cell_type": "markdown",
   "metadata": {
    "id": "hHqrmvPMsfeJ"
   },
   "source": [
    "## 7. Знайти матрицю, що складена з квадратних коренів."
   ]
  },
  {
   "cell_type": "code",
   "execution_count": 10,
   "metadata": {
    "colab": {
     "base_uri": "https://localhost:8080/"
    },
    "id": "cLE7MFbqsUEa",
    "outputId": "95343658-6538-44e8-b6f5-66b26ee5eebe"
   },
   "outputs": [
    {
     "data": {
      "text/plain": [
       "array([[1.41421356, 1.73205081, 1.73205081],\n",
       "       [1.        , 1.        , 2.        ],\n",
       "       [2.23606798, 2.        , 2.23606798]])"
      ]
     },
     "execution_count": 10,
     "metadata": {},
     "output_type": "execute_result"
    }
   ],
   "source": [
    "sqrt_matrix = np.sqrt(matrix)\n",
    "sqrt_matrix"
   ]
  },
  {
   "cell_type": "markdown",
   "metadata": {
    "id": "29fj4m5wsu_r"
   },
   "source": [
    "## 8. Обчислити суму елементів кожного рядка. Відповідь записати  як вектор-стовпчик"
   ]
  },
  {
   "cell_type": "code",
   "execution_count": 11,
   "metadata": {
    "colab": {
     "base_uri": "https://localhost:8080/"
    },
    "id": "8uD3eyMTsuHG",
    "outputId": "7d316c0c-0eed-4769-e98f-b010cb59404c"
   },
   "outputs": [
    {
     "data": {
      "text/plain": [
       "array([[ 8],\n",
       "       [ 6],\n",
       "       [14]])"
      ]
     },
     "execution_count": 11,
     "metadata": {},
     "output_type": "execute_result"
    }
   ],
   "source": [
    "row_sums = np.sum(matrix, axis=1).reshape(-1, 1)\n",
    "row_sums"
   ]
  },
  {
   "cell_type": "markdown",
   "metadata": {
    "id": "8IMHybFsl04Y"
   },
   "source": [
    "## 9. Створити вектор, що містить 25 елементів. Заповнити числами від 0 до 9. Відсортувати числа за спаданням."
   ]
  },
  {
   "cell_type": "code",
   "execution_count": 12,
   "metadata": {
    "colab": {
     "base_uri": "https://localhost:8080/"
    },
    "id": "BqTFRe16tNed",
    "outputId": "0f29fe10-b7e1-475a-fac2-017faa3d6cad"
   },
   "outputs": [
    {
     "data": {
      "text/plain": [
       "array([0, 0, 5, 9, 8, 6, 8, 4, 8, 7, 1, 7, 5, 5, 1, 9, 7, 6, 3, 9, 1, 2,\n",
       "       6, 7, 8])"
      ]
     },
     "execution_count": 12,
     "metadata": {},
     "output_type": "execute_result"
    }
   ],
   "source": [
    "vector = np.random.randint(0, 10, size=25)\n",
    "vector"
   ]
  },
  {
   "cell_type": "code",
   "execution_count": 13,
   "metadata": {},
   "outputs": [
    {
     "data": {
      "text/plain": [
       "array([9, 9, 9, 8, 8, 8, 8, 7, 7, 7, 7, 6, 6, 6, 5, 5, 5, 4, 3, 2, 1, 1,\n",
       "       1, 0, 0])"
      ]
     },
     "execution_count": 13,
     "metadata": {},
     "output_type": "execute_result"
    }
   ],
   "source": [
    "sorted_vector = np.sort(vector)[::-1]\n",
    "sorted_vector"
   ]
  },
  {
   "cell_type": "markdown",
   "metadata": {
    "id": "zb22Iw77mNGR"
   },
   "source": [
    "## 10. Знайти моду, медіану, середнє, максимальне, мінімальне значення"
   ]
  },
  {
   "cell_type": "code",
   "execution_count": 14,
   "metadata": {},
   "outputs": [
    {
     "data": {
      "text/plain": [
       "ModeResult(mode=np.int64(7), count=np.int64(4))"
      ]
     },
     "execution_count": 14,
     "metadata": {},
     "output_type": "execute_result"
    }
   ],
   "source": [
    "from scipy import stats\n",
    "mode = stats.mode(vector)\n",
    "mode"
   ]
  },
  {
   "cell_type": "code",
   "execution_count": 15,
   "metadata": {},
   "outputs": [
    {
     "data": {
      "text/plain": [
       "np.float64(6.0)"
      ]
     },
     "execution_count": 15,
     "metadata": {},
     "output_type": "execute_result"
    }
   ],
   "source": [
    "median = np.median(vector)\n",
    "median"
   ]
  },
  {
   "cell_type": "code",
   "execution_count": 16,
   "metadata": {},
   "outputs": [
    {
     "data": {
      "text/plain": [
       "np.float64(5.28)"
      ]
     },
     "execution_count": 16,
     "metadata": {},
     "output_type": "execute_result"
    }
   ],
   "source": [
    "mean = np.mean(vector)\n",
    "mean"
   ]
  },
  {
   "cell_type": "code",
   "execution_count": 17,
   "metadata": {},
   "outputs": [
    {
     "data": {
      "text/plain": [
       "np.int64(9)"
      ]
     },
     "execution_count": 17,
     "metadata": {},
     "output_type": "execute_result"
    }
   ],
   "source": [
    "max_value = np.max(vector)\n",
    "max_value"
   ]
  },
  {
   "cell_type": "code",
   "execution_count": 18,
   "metadata": {},
   "outputs": [
    {
     "data": {
      "text/plain": [
       "np.int64(0)"
      ]
     },
     "execution_count": 18,
     "metadata": {},
     "output_type": "execute_result"
    }
   ],
   "source": [
    "min_value = np.min(vector)\n",
    "min_value"
   ]
  },
  {
   "cell_type": "markdown",
   "metadata": {
    "id": "Rmew_J41uzHI"
   },
   "source": [
    "## 11. Створити дві матриці 4*4, заповнені числами від 1 до 10. Обчислити суму, різницю, поелементний добуток, частку."
   ]
  },
  {
   "cell_type": "code",
   "execution_count": 19,
   "metadata": {},
   "outputs": [
    {
     "data": {
      "text/plain": [
       "array([[ 4,  6,  3,  1],\n",
       "       [ 3, 10,  8,  1],\n",
       "       [ 7,  2,  2,  4],\n",
       "       [ 1,  7,  1,  9]])"
      ]
     },
     "execution_count": 19,
     "metadata": {},
     "output_type": "execute_result"
    }
   ],
   "source": [
    "matrix1 = np.random.randint(1, 11, size=(4, 4))\n",
    "matrix1"
   ]
  },
  {
   "cell_type": "code",
   "execution_count": 20,
   "metadata": {},
   "outputs": [
    {
     "data": {
      "text/plain": [
       "array([[ 8,  9,  6,  7],\n",
       "       [ 2,  9,  5,  8],\n",
       "       [ 8,  7,  1,  6],\n",
       "       [10,  2,  8,  2]])"
      ]
     },
     "execution_count": 20,
     "metadata": {},
     "output_type": "execute_result"
    }
   ],
   "source": [
    "matrix2 = np.random.randint(1, 11, size=(4, 4))\n",
    "matrix2"
   ]
  },
  {
   "cell_type": "code",
   "execution_count": 21,
   "metadata": {},
   "outputs": [
    {
     "data": {
      "text/plain": [
       "array([[12, 15,  9,  8],\n",
       "       [ 5, 19, 13,  9],\n",
       "       [15,  9,  3, 10],\n",
       "       [11,  9,  9, 11]])"
      ]
     },
     "execution_count": 21,
     "metadata": {},
     "output_type": "execute_result"
    }
   ],
   "source": [
    "matrix_sum = matrix1 + matrix2\n",
    "matrix_sum"
   ]
  },
  {
   "cell_type": "code",
   "execution_count": 22,
   "metadata": {},
   "outputs": [
    {
     "data": {
      "text/plain": [
       "array([[-4, -3, -3, -6],\n",
       "       [ 1,  1,  3, -7],\n",
       "       [-1, -5,  1, -2],\n",
       "       [-9,  5, -7,  7]])"
      ]
     },
     "execution_count": 22,
     "metadata": {},
     "output_type": "execute_result"
    }
   ],
   "source": [
    "matrix_diff = matrix1 - matrix2\n",
    "matrix_diff"
   ]
  },
  {
   "cell_type": "code",
   "execution_count": 23,
   "metadata": {},
   "outputs": [
    {
     "data": {
      "text/plain": [
       "array([[32, 54, 18,  7],\n",
       "       [ 6, 90, 40,  8],\n",
       "       [56, 14,  2, 24],\n",
       "       [10, 14,  8, 18]])"
      ]
     },
     "execution_count": 23,
     "metadata": {},
     "output_type": "execute_result"
    }
   ],
   "source": [
    "matrix_product = matrix1 * matrix2\n",
    "matrix_product"
   ]
  },
  {
   "cell_type": "code",
   "execution_count": 24,
   "metadata": {},
   "outputs": [
    {
     "data": {
      "text/plain": [
       "array([[0.5       , 0.66666667, 0.5       , 0.14285714],\n",
       "       [1.5       , 1.11111111, 1.6       , 0.125     ],\n",
       "       [0.875     , 0.28571429, 2.        , 0.66666667],\n",
       "       [0.1       , 3.5       , 0.125     , 4.5       ]])"
      ]
     },
     "execution_count": 24,
     "metadata": {},
     "output_type": "execute_result"
    }
   ],
   "source": [
    "matrix_division = np.divide(matrix1, matrix2, where=(matrix2!=0))\n",
    "matrix_division"
   ]
  },
  {
   "cell_type": "markdown",
   "metadata": {
    "id": "2gEgaxLu64Fc"
   },
   "source": [
    "## 12. Задати вектор-рядок, що містить дійсні числа 1.0-8.0. Зробити матрицю 3*3.Помножити на вектор-рядок, що містить числа 1.0-2.0"
   ]
  },
  {
   "cell_type": "code",
   "execution_count": 25,
   "metadata": {
    "colab": {
     "base_uri": "https://localhost:8080/"
    },
    "id": "bGYwkZrP6zPa",
    "outputId": "a5854f36-6891-48b6-92af-d30f64e9f1fc"
   },
   "outputs": [
    {
     "data": {
      "text/plain": [
       "array([0., 1., 2., 3., 4., 5., 6., 7., 8.])"
      ]
     },
     "execution_count": 25,
     "metadata": {},
     "output_type": "execute_result"
    }
   ],
   "source": [
    "vec1 = np.arange(9.0)\n",
    "vec1"
   ]
  },
  {
   "cell_type": "code",
   "execution_count": 26,
   "metadata": {
    "colab": {
     "base_uri": "https://localhost:8080/"
    },
    "id": "77LotsR1X-dR",
    "outputId": "81fb87fd-f3a6-432f-fd1f-dd616a9cbb73"
   },
   "outputs": [
    {
     "data": {
      "text/plain": [
       "array([[0., 1., 2.],\n",
       "       [3., 4., 5.],\n",
       "       [6., 7., 8.]])"
      ]
     },
     "execution_count": 26,
     "metadata": {},
     "output_type": "execute_result"
    }
   ],
   "source": [
    "vec1_matrix = vec1.reshape((3, 3))\n",
    "vec1_matrix"
   ]
  },
  {
   "cell_type": "code",
   "execution_count": 27,
   "metadata": {},
   "outputs": [
    {
     "data": {
      "text/plain": [
       "array([0., 1., 2.])"
      ]
     },
     "execution_count": 27,
     "metadata": {},
     "output_type": "execute_result"
    }
   ],
   "source": [
    "vec2 = np.arange(3.0)\n",
    "vec2"
   ]
  },
  {
   "cell_type": "code",
   "execution_count": 28,
   "metadata": {
    "colab": {
     "base_uri": "https://localhost:8080/"
    },
    "id": "kU3JmYtQX6eH",
    "outputId": "84b0f916-57d6-41b5-803b-652d7c5858bb"
   },
   "outputs": [
    {
     "data": {
      "text/plain": [
       "array([[ 0.,  1.,  4.],\n",
       "       [ 0.,  4., 10.],\n",
       "       [ 0.,  7., 16.]])"
      ]
     },
     "execution_count": 28,
     "metadata": {},
     "output_type": "execute_result"
    }
   ],
   "source": [
    "vec_multiply = np.multiply(vec1_matrix, vec2)\n",
    "vec_multiply"
   ]
  },
  {
   "cell_type": "markdown",
   "metadata": {
    "id": "-s-LJYzR8Dyf"
   },
   "source": [
    "## 13. Задати вектор-рядок (числа 1-5). Обчислити вектор в кубі."
   ]
  },
  {
   "cell_type": "code",
   "execution_count": 29,
   "metadata": {
    "colab": {
     "base_uri": "https://localhost:8080/"
    },
    "id": "otERx-P27puV",
    "outputId": "caa9d84e-5a79-4b50-b78b-9e14515944c8"
   },
   "outputs": [
    {
     "data": {
      "text/plain": [
       "array([0, 1, 2, 3, 4, 5])"
      ]
     },
     "execution_count": 29,
     "metadata": {},
     "output_type": "execute_result"
    }
   ],
   "source": [
    "vec3 = np.arange(6)\n",
    "vec3"
   ]
  },
  {
   "cell_type": "code",
   "execution_count": 30,
   "metadata": {
    "colab": {
     "base_uri": "https://localhost:8080/"
    },
    "id": "QMBQsrSa77lJ",
    "outputId": "4033ccb1-8c34-425d-83e5-e4944bcc58f0"
   },
   "outputs": [
    {
     "data": {
      "text/plain": [
       "array([  0,   1,   8,  27,  64, 125])"
      ]
     },
     "execution_count": 30,
     "metadata": {},
     "output_type": "execute_result"
    }
   ],
   "source": [
    "vec3_power = np.power(vec3, 3)\n",
    "vec3_power"
   ]
  },
  {
   "cell_type": "markdown",
   "metadata": {
    "id": "O9Cb02T88PDF"
   },
   "source": [
    "## 14. Піднести до ступеня"
   ]
  },
  {
   "cell_type": "code",
   "execution_count": 31,
   "metadata": {
    "colab": {
     "base_uri": "https://localhost:8080/"
    },
    "id": "aSFjak_c8NGu",
    "outputId": "39352266-ce98-456b-934c-3d301ac6f6dd"
   },
   "outputs": [
    {
     "data": {
      "text/plain": [
       "array([ 0,  1,  8, 27, 16,  5])"
      ]
     },
     "execution_count": 31,
     "metadata": {},
     "output_type": "execute_result"
    }
   ],
   "source": [
    "x2 = np.array([1, 2, 3, 3, 2, 1])\n",
    "x1 = np.arange(6)\n",
    "x1 ** x2"
   ]
  }
 ],
 "metadata": {
  "colab": {
   "provenance": []
  },
  "kernelspec": {
   "display_name": "Python 3 (ipykernel)",
   "language": "python",
   "name": "python3"
  },
  "language_info": {
   "codemirror_mode": {
    "name": "ipython",
    "version": 3
   },
   "file_extension": ".py",
   "mimetype": "text/x-python",
   "name": "python",
   "nbconvert_exporter": "python",
   "pygments_lexer": "ipython3",
   "version": "3.13.2"
  }
 },
 "nbformat": 4,
 "nbformat_minor": 4
}
