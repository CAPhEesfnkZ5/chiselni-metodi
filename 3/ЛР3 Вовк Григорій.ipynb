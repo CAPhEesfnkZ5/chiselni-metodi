{
 "cells": [
  {
   "cell_type": "markdown",
   "metadata": {
    "id": "VgrW9zRY0dVt"
   },
   "source": [
    "# Вовк Григорій ФІТ 2-15\n",
    "Варіант 2, але змінений на варіант 27"
   ]
  },
  {
   "cell_type": "code",
   "execution_count": null,
   "metadata": {
    "colab": {
     "base_uri": "https://localhost:8080/"
    },
    "id": "yiLJNuM3Cq0-",
    "outputId": "47fa5672-6782-43d9-9524-85af508f45c7"
   },
   "outputs": [],
   "source": [
    "%pip install numpy numdifftools"
   ]
  },
  {
   "cell_type": "markdown",
   "metadata": {},
   "source": [
    "## Лабораторна робота 3. Метод Ньютона (дотичних). Комбінований метод"
   ]
  },
  {
   "cell_type": "code",
   "execution_count": null,
   "metadata": {
    "colab": {
     "base_uri": "https://localhost:8080/"
    },
    "id": "L-9dn4npCso-",
    "outputId": "15f23d00-6dc1-4f50-d1d0-8f45b2ae8220"
   },
   "outputs": [
    {
     "name": "stdout",
     "output_type": "stream",
     "text": [
      "Found segment:  [0, 1]\n",
      "Found segment:  [2, 3]\n"
     ]
    }
   ],
   "source": [
    "import numpy as np\n",
    "\n",
    "def f(x):\n",
    "    # варіант 27\n",
    "    return x**4-2*x**3+2*x**2-6*x+1\n",
    "\n",
    "def find_segments(): #відокремлюємо корені\n",
    "    search_range = np.arange(-10, 10, 1)\n",
    "\n",
    "    a = None\n",
    "    previous_x = None\n",
    "    current_x  = None\n",
    "    segments = []\n",
    "\n",
    "    for x in search_range:\n",
    "        x = round(x, 4)\n",
    "        current_x = f(x)\n",
    "        if previous_x != None and previous_x * current_x < 0:\n",
    "            segments.append((a, x))\n",
    "        a = x\n",
    "        previous_x = current_x\n",
    "    return segments\n",
    "\n",
    "segments = find_segments()\n",
    "for a, b in segments:\n",
    "    print(f'Found segment:  [{a}, {b}]')\n"
   ]
  },
  {
   "cell_type": "code",
   "execution_count": null,
   "metadata": {
    "colab": {
     "base_uri": "https://localhost:8080/"
    },
    "id": "uz6OF8g2C-vY",
    "outputId": "4ca0818c-970a-430f-f375-6ed063b0080e"
   },
   "outputs": [
    {
     "name": "stdout",
     "output_type": "stream",
     "text": [
      "Розв'язання на відрізку [0, 1]\n",
      "Метод Ньютона, x =  0.1752\n",
      "Комбінований метод, x =  0.1753\n",
      "Розв'язання на відрізку [2, 3]\n",
      "Метод Ньютона, x =  2.2251\n",
      "Комбінований метод, x =  2.2233\n"
     ]
    }
   ],
   "source": [
    "import numdifftools as nd\n",
    "\n",
    "def nuton(a, b, eps, f):\n",
    "    df2 = nd.Derivative(f, n=2)(b)  # Отримуємо значення похідної другого порядку в точці b\n",
    "    if f(b) * df2 > 0:\n",
    "        xi = b\n",
    "    else:\n",
    "        xi = a\n",
    "    df = nd.Derivative(f, n=1)(xi)  # Отримуємо значення похідної першого порядку в точці xi\n",
    "    xi_1 = xi - f(xi) / df\n",
    "    while abs(xi_1 - xi) > eps:  # перевіряємо точність\n",
    "        xi = xi_1\n",
    "        xi_1 = xi - f(xi) / df\n",
    "    print('Метод Ньютона, x = ', xi_1.round(4))\n",
    "\n",
    "def komb(a, b, eps, f):\n",
    "    df2 = nd.Derivative(f, n=2)(a)\n",
    "    if f(a) * df2 > 0:\n",
    "        a0 = a\n",
    "        b0 = b\n",
    "    else:\n",
    "        a0 = b\n",
    "        b0 = a\n",
    "    ai = a0\n",
    "    bi = b0\n",
    "    while abs(ai - bi) > eps:\n",
    "        ai_1 = ai - f(ai) * (bi - ai) / (f(bi) - f(ai))\n",
    "        bi_1 = bi - f(bi) / nd.Derivative(f, n=1)(bi)\n",
    "        ai = ai_1\n",
    "        bi = bi_1\n",
    "    x = (ai_1 + bi_1) / 2\n",
    "\n",
    "    print('Комбінований метод, x = ', x.round(4))\n",
    "\n",
    "if __name__ == \"__main__\":\n",
    "    eps = 0.0001\n",
    "    \n",
    "    for a, b in segments:\n",
    "        print(f\"Розв'язання на відрізку [{a}, {b}]\")\n",
    "        nuton(a, b, eps, f)\n",
    "        komb(a, b, eps, f)"
   ]
  },
  {
   "cell_type": "markdown",
   "metadata": {},
   "source": [
    "## Перевірка результатів методом Половинного ділення та методом Хорд"
   ]
  },
  {
   "cell_type": "code",
   "execution_count": null,
   "metadata": {},
   "outputs": [
    {
     "name": "stdout",
     "output_type": "stream",
     "text": [
      "Розв'язання на відрізку [0, 1]\n",
      "Метод ділення навпіл, x = 0.17529\n",
      "Метод хорд, x = 0.17527\n",
      "Розв'язання на відрізку [2, 3]\n",
      "Метод ділення навпіл, x = 2.22314\n",
      "Метод хорд, x = 2.22327\n"
     ]
    }
   ],
   "source": [
    "def rec(a, b, eps):  # метод половинного ділення\n",
    "    while (abs(a - b) > eps):\n",
    "        if f(a) * f((a + b) / 2) < 0:\n",
    "            b = (a + b) / 2\n",
    "        else:\n",
    "            a = (a + b) / 2\n",
    "        x = (a + b) / 2\n",
    "\n",
    "    print(f'Метод ділення навпіл, x = {round(x, 5)}')      \n",
    "\n",
    "def hord(a, b, eps):  # метод хорд\n",
    "    if f(a) * f(b) > 0:\n",
    "        print('Метод хорд, x = Розв\\'язок не можливий')      \n",
    "        return\n",
    "\n",
    "    x0, xi = a, b\n",
    "    while True:\n",
    "        xi_1 = xi - (xi - x0) * f(xi) / (f(xi) - f(x0))\n",
    "        x0, xi = xi, xi_1\n",
    "        if (abs(x0 - xi) <= eps):\n",
    "            break\n",
    "    print(f'Метод хорд, x = {round(xi, 5)}')\n",
    "\n",
    "eps = 0.0001\n",
    "\n",
    "for a, b in segments:\n",
    "    print(f\"Розв'язання на відрізку [{a}, {b}]\")\n",
    "    rec(a, b, eps)\n",
    "    hord(a, b, eps)"
   ]
  }
 ],
 "metadata": {
  "colab": {
   "provenance": []
  },
  "kernelspec": {
   "display_name": "Python 3 (ipykernel)",
   "language": "python",
   "name": "python3"
  },
  "language_info": {
   "codemirror_mode": {
    "name": "ipython",
    "version": 3
   },
   "file_extension": ".py",
   "mimetype": "text/x-python",
   "name": "python",
   "nbconvert_exporter": "python",
   "pygments_lexer": "ipython3",
   "version": "3.13.2"
  }
 },
 "nbformat": 4,
 "nbformat_minor": 4
}
