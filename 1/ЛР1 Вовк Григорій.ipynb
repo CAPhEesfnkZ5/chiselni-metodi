{
 "cells": [
  {
   "cell_type": "markdown",
   "metadata": {
    "id": "QIS1w_NEiL7P"
   },
   "source": [
    "# Вовк Григорій ФІТ 2-15 Варіант 2"
   ]
  },
  {
   "cell_type": "markdown",
   "metadata": {
    "id": "Be7Zm1jb9ZjU"
   },
   "source": [
    "## Завдання 1"
   ]
  },
  {
   "cell_type": "code",
   "execution_count": 8,
   "metadata": {
    "colab": {
     "base_uri": "https://localhost:8080/"
    },
    "id": "k34h0Z6EjU1P",
    "outputId": "32a917db-10bc-4619-b958-1625c828a658"
   },
   "outputs": [
    {
     "name": "stdout",
     "output_type": "stream",
     "text": [
      "Перша рівність точніше з відносною похибкою: 0.00047\n"
     ]
    }
   ],
   "source": [
    "from math import sqrt\n",
    "\n",
    "def f(x, y):\n",
    "    return abs(x - y) / abs(x)\n",
    "\n",
    "def main():\n",
    "    x1 = sqrt(73)\n",
    "    x2 = 7 / 15\n",
    "    x1_1 = 8.54\n",
    "    x2_2 = 0.467\n",
    "\n",
    "    rel_error_x1 = f(x1, x1_1)\n",
    "    rel_error_x2 = f(x2, x2_2)\n",
    "\n",
    "    if rel_error_x1 < rel_error_x2:\n",
    "        print('Перша рівність точніше з відносною похибкою:', round(rel_error_x1, 5))\n",
    "    elif rel_error_x2 < rel_error_x1:\n",
    "        print('Друга рівність точніше з відносною похибкою:', round(rel_error_x2, 5))\n",
    "    else:\n",
    "        print('Обидві рівності мають однакову точність з відносною похибкою:', round(rel_error_x2, 5))\n",
    "\n",
    "if __name__ == '__main__':\n",
    "    main()\n"
   ]
  }
 ],
 "metadata": {
  "colab": {
   "provenance": []
  },
  "kernelspec": {
   "display_name": "Python 3 (ipykernel)",
   "language": "python",
   "name": "python3"
  },
  "language_info": {
   "codemirror_mode": {
    "name": "ipython",
    "version": 3
   },
   "file_extension": ".py",
   "mimetype": "text/x-python",
   "name": "python",
   "nbconvert_exporter": "python",
   "pygments_lexer": "ipython3",
   "version": "3.13.1"
  }
 },
 "nbformat": 4,
 "nbformat_minor": 4
}
