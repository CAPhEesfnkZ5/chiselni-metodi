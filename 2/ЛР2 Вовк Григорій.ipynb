{
 "cells": [
  {
   "cell_type": "markdown",
   "metadata": {
    "id": "VgrW9zRY0dVt"
   },
   "source": [
    "#### Вовк Григорій ФІТ 2-15\n",
    "Варіант 2"
   ]
  },
  {
   "cell_type": "code",
   "execution_count": null,
   "metadata": {
    "colab": {
     "base_uri": "https://localhost:8080/"
    },
    "id": "yiLJNuM3Cq0-",
    "outputId": "47fa5672-6782-43d9-9524-85af508f45c7"
   },
   "outputs": [],
   "source": [
    "%pip install matplotlib numpy sympy scipy pandas"
   ]
  },
  {
   "cell_type": "markdown",
   "metadata": {},
   "source": [
    "1. Метод ділення навпіл."
   ]
  },
  {
   "cell_type": "code",
   "execution_count": 2,
   "metadata": {},
   "outputs": [
    {
     "name": "stdout",
     "output_type": "stream",
     "text": [
      "Результати обчислень\n",
      "\n",
      "          a      F(a)         c      F(c)       b      F(b)\n",
      "0 -3.000000  0.977954 -2.000000  1.135204 -1.0000 -0.454649\n",
      "1 -2.000000  1.135204 -1.500000 -0.123480 -1.0000 -0.454649\n",
      "2 -2.000000  1.135204 -1.750000  0.405593 -1.5000 -0.123480\n",
      "3 -1.750000  0.405593 -1.625000  0.109040 -1.5000 -0.123480\n",
      "4 -1.625000  0.109040 -1.562500 -0.015587 -1.5000 -0.123480\n",
      "5 -1.625000  0.109040 -1.593750  0.044659 -1.5625 -0.015587\n",
      "6 -1.593750  0.044659 -1.578125  0.014015 -1.5625 -0.015587\n",
      "7 -1.578125  0.014015 -1.570312 -0.000917 -1.5625 -0.015587\n",
      "\n",
      "В точці с =  -1.5703125 , f(c) =  -0.0009171268569415665\n"
     ]
    }
   ],
   "source": [
    "import numpy as np\n",
    "import pandas as pd\n",
    "\n",
    "# Визначаємо функцію\n",
    "def f (x):\n",
    "    y = np.cos(x)*np.sin(x)*(x**2+x+1)\n",
    "    return y\n",
    "# Визначаємо границі відрізку\n",
    "a = -3\n",
    "b = -1\n",
    "# Визначаємо точність розв'язку\n",
    "h = 0.001\n",
    "# Поділяємо відрізок навпіл\n",
    "c = (a+b)/2\n",
    "# Зберігаємо результати обчислень\n",
    "data_A = [a]\n",
    "data_B = [b]\n",
    "data_C = [c]\n",
    "data_F_A = [f(a)]\n",
    "data_F_B = [f(b)]\n",
    "data_F_C = [f(c)]\n",
    "# Перевіряємо досягнення точності\n",
    "while abs(f(c)) > h:\n",
    "    # Звужуємо відрізок\n",
    "    if np.sign(f(c)) == np.sign(f(a)):\n",
    "        a = c\n",
    "    else:\n",
    "        b = c\n",
    "    # Поділяємо відрізок навпіл\n",
    "    c = (a+b)/2\n",
    "    # Зберігаємо результати обчислень\n",
    "    data_A.append(a)\n",
    "    data_B.append(b)\n",
    "    data_C.append(c)\n",
    "    data_F_A.append(f(a))\n",
    "    data_F_B.append(f(b))\n",
    "    data_F_C.append(f(c))\n",
    "# Відображаємо результати обчислень\n",
    "print('Результати обчислень')\n",
    "print()\n",
    "data = pd.DataFrame({'a': data_A,\n",
    "                     'F(a)': data_F_A,\n",
    "                     'c': data_C,\n",
    "                     'F(c)': data_F_C,\n",
    "                     'b': data_B,\n",
    "                     'F(b)': data_F_B})\n",
    "print(data)\n",
    "# Відображаємо наближений корінь рівняння\n",
    "print()\n",
    "print('В точці с = ', c, ', f(c) = ', f(c))"
   ]
  },
  {
   "cell_type": "markdown",
   "metadata": {},
   "source": [
    "2. Метод ділення навпіл."
   ]
  },
  {
   "cell_type": "code",
   "execution_count": 3,
   "metadata": {},
   "outputs": [
    {
     "name": "stdout",
     "output_type": "stream",
     "text": [
      "The approximate solution x is: -1.5712890625\n",
      "And the value f(x) is: 0.0009350448126615916\n"
     ]
    }
   ],
   "source": [
    "import numpy as np\n",
    "import scipy.optimize as sp\n",
    "\n",
    "def f(x):\n",
    "    y = np.cos(x)*np.sin(x)*(x**2+x+1)\n",
    "    return y\n",
    "\n",
    "a = -3\n",
    "b = -1\n",
    "tol = 1.e-3\n",
    "\n",
    "x = sp.bisect(f, a,b,(),tol) #функція для метода\n",
    "\n",
    "print('The approximate solution x is:', x)\n",
    "print('And the value f(x) is:', f(x))"
   ]
  },
  {
   "cell_type": "markdown",
   "metadata": {},
   "source": [
    "3. Метод хорд."
   ]
  },
  {
   "cell_type": "code",
   "execution_count": 4,
   "metadata": {},
   "outputs": [
    {
     "name": "stdout",
     "output_type": "stream",
     "text": [
      "Результати обчислень\n",
      "\n",
      "          a      F(a)         c      F(c)         b      F(b)\n",
      "0 -3.000000  0.977954 -1.634717  0.129889 -1.000000 -0.454649\n",
      "1 -1.634717  0.129889 -1.493678 -0.133455 -1.000000 -0.454649\n",
      "2 -1.634717  0.129889 -1.565152 -0.010636 -1.493678 -0.133455\n",
      "3 -1.634717  0.129889 -1.570418 -0.000718 -1.565152 -0.010636\n",
      "\n",
      "В точці с =  -1.5704175737258015 , f(c) =  -0.0007180376446871882\n"
     ]
    }
   ],
   "source": [
    "import numpy as np\n",
    "import pandas as pd\n",
    "# Визначаємо функцію\n",
    "def f(x):\n",
    "    y = np.cos(x)*np.sin(x)*(x**2+x+1)\n",
    "    return y\n",
    "# Визначаємо межі відрізку\n",
    "a = -3\n",
    "b = -1\n",
    "# Визначаємо точність розв'язку\n",
    "h = 0.001\n",
    "# Точка, де хорда перетинає вісь 0x\n",
    "c = (f(a)*b-a*f(b))/(f(a)-f(b))\n",
    "\n",
    "# Зберігаємо результати обчислень\n",
    "data_A = [a]\n",
    "data_B = [b]\n",
    "data_C = [c]\n",
    "data_F_A = [f(a)]\n",
    "data_F_B = [f(b)]\n",
    "data_F_C = [f(c)]\n",
    "# Перевіряємо досягнення точності\n",
    "while abs(f(c)) > h:\n",
    "    # Звужуємо відрізок\n",
    "    if np.sign(f(c)) == np.sign(f(a)):\n",
    "        a = c\n",
    "    else:\n",
    "        b = c\n",
    "    # Точка, де хорда перетинає вісь 0x\n",
    "    c = (f(a)*b-a*f(b))/(f(a)-f(b))\n",
    "    # Зберігаємо результати обчислень\n",
    "    data_A.append(a)\n",
    "    data_B.append(b)\n",
    "    data_C.append(c)\n",
    "    data_F_A.append(f(a))\n",
    "    data_F_B.append(f(b))\n",
    "    data_F_C.append(f(c))\n",
    "# Відображаємо результати обчислень\n",
    "print('Результати обчислень')\n",
    "print()\n",
    "data = pd.DataFrame({'a': data_A, 'F(a)': data_F_A,\n",
    "                     'c': data_C, 'F(c)': data_F_C,\n",
    "                     'b': data_B, 'F(b)': data_F_B})\n",
    "print(data)\n",
    "# Відображаємо наближений корінь рівняння\n",
    "print()\n",
    "print('В точці с = ', c, ', f(c) = ', f(c))"
   ]
  },
  {
   "cell_type": "markdown",
   "metadata": {},
   "source": [
    "Знаходження коренів рівняння за допомогою бібліотеки SymPy"
   ]
  },
  {
   "cell_type": "code",
   "execution_count": 5,
   "metadata": {},
   "outputs": [
    {
     "name": "stdout",
     "output_type": "stream",
     "text": [
      "[0, pi/2, pi, 3*pi/2, -1/2 - sqrt(3)*I/2, -1/2 + sqrt(3)*I/2]\n"
     ]
    }
   ],
   "source": [
    "import sympy as sym\n",
    "\n",
    "x = sym.Symbol('x')\n",
    "\n",
    "y = sym.cos(x)*sym.sin(x)*(x**2+x+1)\n",
    "\n",
    "s = sym.solve(y)\n",
    "\n",
    "print(s)"
   ]
  },
  {
   "cell_type": "code",
   "execution_count": 6,
   "metadata": {},
   "outputs": [
    {
     "name": "stdout",
     "output_type": "stream",
     "text": [
      "[(-b - sqrt(-4*a*c + b**2))/(2*a), (-b + sqrt(-4*a*c + b**2))/(2*a)]\n"
     ]
    }
   ],
   "source": [
    "import sympy as sym\n",
    "\n",
    "x, a, b, c = sym.symbols('x, a, b, c')\n",
    "\n",
    "y = a * x**2 + b * x + c\n",
    "\n",
    "s = sym.solve(y, x)\n",
    "\n",
    "print(s)"
   ]
  },
  {
   "cell_type": "markdown",
   "metadata": {},
   "source": [
    "# Лабораторна робота 2\n",
    "## Відокремлення коренів"
   ]
  },
  {
   "cell_type": "code",
   "execution_count": 7,
   "metadata": {
    "colab": {
     "base_uri": "https://localhost:8080/"
    },
    "id": "L-9dn4npCso-",
    "outputId": "15f23d00-6dc1-4f50-d1d0-8f45b2ae8220"
   },
   "outputs": [
    {
     "name": "stdout",
     "output_type": "stream",
     "text": [
      "Found segment:  [-3, -2]\n",
      "Found segment:  [1, 2]\n"
     ]
    }
   ],
   "source": [
    "import numpy as np\n",
    "def f(x):\n",
    "    return 3*x**4 + 4*x**3 - 12*x**2 - 5\n",
    "\n",
    "def find_segments(): #відокремлюємо корені\n",
    "    search_range = np.arange(-10, 4, 1)\n",
    "\n",
    "    a = None\n",
    "    previous_x = None\n",
    "    current_x  = None\n",
    "    segments = []\n",
    "\n",
    "    for x in search_range:\n",
    "        x = round(x, 4)\n",
    "        current_x = f(x)\n",
    "        if previous_x != None and previous_x * current_x < 0:\n",
    "            segments.append((a, x))\n",
    "        a = x\n",
    "        previous_x = current_x\n",
    "    return segments\n",
    "\n",
    "segments = find_segments()\n",
    "for a, b in segments:\n",
    "    print(f'Found segment:  [{a}, {b}]')\n"
   ]
  },
  {
   "cell_type": "code",
   "execution_count": 8,
   "metadata": {
    "colab": {
     "base_uri": "https://localhost:8080/",
     "height": 564
    },
    "id": "7zUI3d1xZXar",
    "outputId": "8e25b346-81e8-4858-c9a9-b0ac8777a3b2"
   },
   "outputs": [
    {
     "data": {
      "image/png": "[encoded data removed]",
      "text/plain": [
       "<Figure size 800x600 with 1 Axes>"
      ]
     },
     "metadata": {},
     "output_type": "display_data"
    }
   ],
   "source": [
    "import numpy as np\n",
    "import matplotlib.pyplot as plt\n",
    "\n",
    "# Генерація значень x\n",
    "x = np.linspace(-3.5, 2.5, 400)\n",
    "\n",
    "# Генерація значень y\n",
    "y = f(x)\n",
    "f_text = \"3*x^4 + 4*x^3 - 12*x^2 - 5\"\n",
    "\n",
    "# Побудова графіка\n",
    "plt.figure(figsize=(8, 6))\n",
    "plt.plot(x, y, label=f'{f_text}', color='blue')\n",
    "plt.title(f'Графік функції {f_text}')\n",
    "plt.xlabel('x')\n",
    "plt.ylabel('f(x)')\n",
    "\n",
    "# Додавання осей з стрілками\n",
    "plt.axhline(0, color='black', linewidth=0.5)\n",
    "plt.axvline(0, color='black', linewidth=0.5)\n",
    "\n",
    "plt.text(2.05, -4, 'x', ha='center', va='center')\n",
    "plt.text(-0.3, 110, 'y', ha='center', va='center')\n",
    "\n",
    "plt.grid(True)\n",
    "plt.legend()\n",
    "plt.show()\n"
   ]
  },
  {
   "cell_type": "markdown",
   "metadata": {},
   "source": [
    "## Метод половинного ділення, хорд"
   ]
  },
  {
   "cell_type": "code",
   "execution_count": 9,
   "metadata": {
    "colab": {
     "base_uri": "https://localhost:8080/"
    },
    "id": "BgjK94O9Cfxe",
    "outputId": "5f85d9d7-e364-40ff-bbbc-2092343cee70"
   },
   "outputs": [
    {
     "name": "stdout",
     "output_type": "stream",
     "text": [
      "Розв'язки на відрізку [-3,-2]\n",
      "x=  -2.82388   -   Half division method\n",
      "x=  -2.82385   -   Chord method\n",
      "Розв'язки на відрізку [1,2]\n",
      "x=  1.59207   -   Half division method\n",
      "x=  1.59209   -   Chord method\n"
     ]
    }
   ],
   "source": [
    "def rec(a, b, eps):  # метод половинного ділення\n",
    "    while (abs(a - b) > eps):\n",
    "        if f(a) * f((a + b) / 2) < 0:\n",
    "            b = (a + b) / 2\n",
    "        else:\n",
    "            a = (a + b) / 2\n",
    "        x = (a + b) / 2\n",
    "\n",
    "    print('x= ', round(x, 5), '  -   Half division method')\n",
    "\n",
    "# тепер працює\n",
    "def hord(a, b, eps):  # метод хорд\n",
    "    if f(a) * f(b) > 0:\n",
    "        print('Розв\\'язок не можливий  -   Chord method')\n",
    "\n",
    "    x0, xi = a, b\n",
    "    while True:\n",
    "        xi_1 = xi - (xi - x0) * f(xi) / (f(xi) - f(x0))\n",
    "        x0, xi = xi, xi_1\n",
    "        if (abs(x0 - xi) <= eps):\n",
    "            break\n",
    "    print('x= ', round(xi, 5), '  -   Chord method')            \n",
    "                 \n",
    "if __name__ == \"__main__\":\n",
    "    a1, b1 = -3, -2\n",
    "    a2, b2 = 1, 2    \n",
    "    eps = 0.0001\n",
    "    print(f\"Розв'язки на відрізку [{a1},{b1}]\")\n",
    "    rec(a1, b1, eps)\n",
    "    hord(a1, b1, eps)\n",
    "    print(f\"Розв'язки на відрізку [{a2},{b2}]\")\n",
    "    rec(a2, b2, eps)\n",
    "    hord(a2, b2, eps)    \n"
   ]
  }
 ],
 "metadata": {
  "colab": {
   "provenance": []
  },
  "kernelspec": {
   "display_name": "Python 3 (ipykernel)",
   "language": "python",
   "name": "python3"
  },
  "language_info": {
   "codemirror_mode": {
    "name": "ipython",
    "version": 3
   },
   "file_extension": ".py",
   "mimetype": "text/x-python",
   "name": "python",
   "nbconvert_exporter": "python",
   "pygments_lexer": "ipython3",
   "version": "3.13.1"
  }
 },
 "nbformat": 4,
 "nbformat_minor": 4
}
