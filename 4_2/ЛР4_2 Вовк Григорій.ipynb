{
 "cells": [
  {
   "cell_type": "markdown",
   "metadata": {},
   "source": [
    "# Вовк Григорій ФІТ 2-15\n",
    "Варіант 2, був на парі"
   ]
  },
  {
   "cell_type": "code",
   "execution_count": null,
   "metadata": {},
   "outputs": [],
   "source": [
    "%pip install numpy"
   ]
  },
  {
   "cell_type": "code",
   "execution_count": 2,
   "metadata": {
    "id": "DlhB3T_KwRie"
   },
   "outputs": [],
   "source": [
    "import numpy as np\n",
    "a = np.array([\n",
    "    [2, -1, 1],\n",
    "    [3, 2, 2],\n",
    "    [1, -2, 1],\n",
    "])\n",
    "b = np.array([[2], [-2], [1]])"
   ]
  },
  {
   "cell_type": "code",
   "execution_count": 3,
   "metadata": {
    "colab": {
     "base_uri": "https://localhost:8080/"
    },
    "id": "p6xCePN2waI2",
    "outputId": "0fd90459-ce4b-4c7c-f105-c46c24b3d105"
   },
   "outputs": [
    {
     "name": "stdout",
     "output_type": "stream",
     "text": [
      "Обернена матриця до матриці A: \n",
      " [[ 1.2 -0.2 -0.8]\n",
      " [-0.2  0.2 -0.2]\n",
      " [-1.6  0.6  1.4]]\n",
      "Вектор рішення: \n",
      " [[ 2.]\n",
      " [-1.]\n",
      " [-3.]]\n"
     ]
    }
   ],
   "source": [
    "#Матричний метод (1 спосіб)\n",
    "det_a = np.linalg.det(a)\n",
    "if det_a == 0:\n",
    "    print(\"Визначник дорівнює нулю - рішень немає\")\n",
    "else:\n",
    "  a_inv = np.linalg.inv(a)\n",
    "  print(f\"Обернена матриця до матриці A: \\r\\n {a_inv }\")\n",
    "  print(f\"Вектор рішення: \\r\\n {a_inv.dot(b)}\")"
   ]
  },
  {
   "cell_type": "code",
   "execution_count": 4,
   "metadata": {
    "colab": {
     "base_uri": "https://localhost:8080/"
    },
    "id": "vVOGJcfowh1Z",
    "outputId": "b412ba01-4713-488b-913e-5c0adb993aad"
   },
   "outputs": [
    {
     "name": "stdout",
     "output_type": "stream",
     "text": [
      "Вектор рішення: \n",
      " [[ 2.]\n",
      " [-1.]\n",
      " [-3.]]\n"
     ]
    }
   ],
   "source": [
    "# Напиши функцію для вирішення системи матричним методом (2 спосіб)\n",
    "def solve_inv_matrix(a, b, verbose=False):\n",
    "    det = np.linalg.det(a)\n",
    "    if verbose: print(f\"Визначник матриці A: {round(det)}\")\n",
    "    if det == 0:\n",
    "        print(\"Визначник дорівнює нулю - рішень немає\")\n",
    "        return None\n",
    "\n",
    "    a_inv= np.linalg.inv(a)\n",
    "    if verbose: print(f\"Обернена матриця до матриці A: \\r\\n {a_inv }\")\n",
    "    return a_inv.dot(b)\n",
    "\n",
    "print(f\"Вектор рішення: \\r\\n {solve_inv_matrix(a, b)}\")"
   ]
  },
  {
   "cell_type": "code",
   "execution_count": 5,
   "metadata": {
    "colab": {
     "base_uri": "https://localhost:8080/"
    },
    "id": "tmzA_0CAwmds",
    "outputId": "d89ceafe-c022-44d5-fcbd-e8d4901fcb91"
   },
   "outputs": [
    {
     "name": "stdout",
     "output_type": "stream",
     "text": [
      "x = 1.9999999999999993\n",
      "y = -1.0\n",
      "z = -3.000000000000001\n"
     ]
    }
   ],
   "source": [
    "#метод Крамера (1 спосіб)\n",
    "# Метод Крамера\n",
    "det_a = np.linalg.det(a)\n",
    "\n",
    "if det_a == 0:\n",
    "    print(\"Визначник дорівнює нулю — система не має єдиного розв’язку.\")\n",
    "else:\n",
    "    def replace_column(matrix, column_index, new_column):\n",
    "        new_matrix = np.copy(matrix)\n",
    "        new_matrix[:, column_index] = new_column\n",
    "        return new_matrix\n",
    "\n",
    "    # Обчислюємо Δx, Δy, Δz\n",
    "    delta_x = np.linalg.det(replace_column(a, 0, b.T))\n",
    "    delta_y = np.linalg.det(replace_column(a, 1, b.T))\n",
    "    delta_z = np.linalg.det(replace_column(a, 2, b.T))\n",
    "\n",
    "    # Обчислюємо x, y, z\n",
    "    print('x =', delta_x / det_a)\n",
    "    print('y =', delta_y / det_a)\n",
    "    print('z =', delta_z / det_a)\n",
    "\n"
   ]
  },
  {
   "cell_type": "code",
   "execution_count": 6,
   "metadata": {
    "colab": {
     "base_uri": "https://localhost:8080/"
    },
    "id": "wrjoJ3pWwptY",
    "outputId": "19dd3ec0-9740-4947-d7a6-0f81571a2cca"
   },
   "outputs": [
    {
     "name": "stdout",
     "output_type": "stream",
     "text": [
      "Вектор рішення: \n",
      " [[ 2.]\n",
      " [-1.]\n",
      " [-3.]]\n"
     ]
    }
   ],
   "source": [
    "# Напиши функцію для вирішення системи методом Крамера\n",
    "def solve_cramer(a, b, verbose=False):\n",
    "    det = np.linalg.det(a)\n",
    "    if verbose: print(f\"Визначник матриці A: {round(det)}\")\n",
    "    if det == 0:\n",
    "        print(\"Визначник дорівнює нулю - рішень немає\")\n",
    "        return None\n",
    "\n",
    "    len_a = len(a)\n",
    "    x = np.zeros((len_a, 1))\n",
    "    for i in range(len_a):\n",
    "        temp = np.copy(a)\n",
    "        temp[:, [i]] = b\n",
    "        x[i, 0] = np.linalg.det(temp)/det\n",
    "\n",
    "    return x\n",
    "\n",
    "\n",
    "print(f\"Вектор рішення: \\r\\n {solve_cramer(a, b)}\")"
   ]
  },
  {
   "cell_type": "markdown",
   "metadata": {
    "id": "KLFQe9XLwtrE"
   },
   "source": [
    "Перевірка"
   ]
  },
  {
   "cell_type": "code",
   "execution_count": 7,
   "metadata": {
    "colab": {
     "base_uri": "https://localhost:8080/"
    },
    "id": "H2jnfCBrwwRp",
    "outputId": "597d983b-98fb-494b-f972-bee9028dd835"
   },
   "outputs": [
    {
     "name": "stdout",
     "output_type": "stream",
     "text": [
      "[[ 2.]\n",
      " [-1.]\n",
      " [-3.]]\n"
     ]
    }
   ],
   "source": [
    "x = np.linalg.solve(a, b)\n",
    "\n",
    "print(x)"
   ]
  },
  {
   "cell_type": "code",
   "execution_count": 8,
   "metadata": {
    "colab": {
     "base_uri": "https://localhost:8080/"
    },
    "id": "0jnvvtjmxJPE",
    "outputId": "a547018a-c046-4761-9e34-2ab20bb70e7c"
   },
   "outputs": [
    {
     "name": "stdout",
     "output_type": "stream",
     "text": [
      "Вектор рішення: \n",
      " [[ 2.]\n",
      " [-1.]\n",
      " [-3.]]\n"
     ]
    }
   ],
   "source": [
    "# Напиши функцію для вирішення системи методом Гауса\n",
    "def solve_gausse(a, b, verbose=False):\n",
    "    det = np.linalg.det(a)\n",
    "    if verbose: print(f\"Визначник матриці A: {round(det)}\")\n",
    "    if det == 0:\n",
    "        print(\"Визначник дорівнює нулю - рішень немає\")\n",
    "        return None\n",
    "    # Reading number of unknowns\n",
    "    n = len(b)\n",
    "    m = np.concatenate([a, b], axis=1, dtype=float)\n",
    "\n",
    "    # Applying Gauss-Jordan Elimination\n",
    "    for i in range(n):\n",
    "\n",
    "        # Swap rows to avoid division by 0\n",
    "        if m[i, i] == 0:\n",
    "            for k in range(i+1, n):\n",
    "                if m[k, k] != 0:\n",
    "                    m[[i, k], :] = m[[k, i], :]\n",
    "                    break\n",
    "\n",
    "\n",
    "        if m[i, i] != 1:\n",
    "            m[i, :] *= 1/m[i, i]\n",
    "\n",
    "        for j in range(n):\n",
    "            if i != j:\n",
    "                ratio = m[j][i]/m[i][i]\n",
    "\n",
    "                m[j, :] = m[j, :] - ratio * m[i, :]\n",
    "\n",
    "    return m[:, [-1]]\n",
    "\n",
    "print(f\"Вектор рішення: \\r\\n {solve_gausse(a, b)}\")"
   ]
  }
 ],
 "metadata": {
  "colab": {
   "provenance": []
  },
  "kernelspec": {
   "display_name": "Python 3 (ipykernel)",
   "language": "python",
   "name": "python3"
  },
  "language_info": {
   "codemirror_mode": {
    "name": "ipython",
    "version": 3
   },
   "file_extension": ".py",
   "mimetype": "text/x-python",
   "name": "python",
   "nbconvert_exporter": "python",
   "pygments_lexer": "ipython3",
   "version": "3.13.3"
  }
 },
 "nbformat": 4,
 "nbformat_minor": 4
}
